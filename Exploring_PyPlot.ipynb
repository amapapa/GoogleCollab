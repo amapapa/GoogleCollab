{
  "nbformat": 4,
  "nbformat_minor": 0,
  "metadata": {
    "colab": {
      "name": "Exploring PyPlot.ipynb",
      "version": "0.3.2",
      "provenance": [],
      "collapsed_sections": [],
      "include_colab_link": true
    },
    "kernelspec": {
      "name": "python3",
      "display_name": "Python 3"
    }
  },
  "cells": [
    {
      "cell_type": "markdown",
      "metadata": {
        "id": "view-in-github",
        "colab_type": "text"
      },
      "source": [
        "<a href=\"https://colab.research.google.com/github/amapapa/GoogleCollab/blob/master/Exploring_PyPlot.ipynb\" target=\"_parent\"><img src=\"https://colab.research.google.com/assets/colab-badge.svg\" alt=\"Open In Colab\"/></a>"
      ]
    },
    {
      "cell_type": "markdown",
      "metadata": {
        "id": "7PNCWiwF4_Gj",
        "colab_type": "text"
      },
      "source": [
        ">>>>>>>>>>**<font color=\"blue\"> PyPlot Tutorial**\n",
        ">>>>\n",
        "This is the second notebook prepared to revise pyplot   \n",
        "For visitors: I am referring to https://matplotlib.org/3.1.0/tutorials/introductory/pyplot.html for the tutorials"
      ]
    },
    {
      "cell_type": "code",
      "metadata": {
        "id": "ZEGeBtrC588B",
        "colab_type": "code",
        "colab": {}
      },
      "source": [
        "\n",
        "\n"
      ],
      "execution_count": 0,
      "outputs": []
    }
  ]
}